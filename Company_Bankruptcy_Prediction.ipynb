{
  "nbformat": 4,
  "nbformat_minor": 0,
  "metadata": {
    "colab": {
      "provenance": [],
      "authorship_tag": "ABX9TyOziUQlWz9f0SFiehs4SCXD",
      "include_colab_link": true
    },
    "kernelspec": {
      "name": "python3",
      "display_name": "Python 3"
    },
    "language_info": {
      "name": "python"
    }
  },
  "cells": [
    {
      "cell_type": "markdown",
      "metadata": {
        "id": "view-in-github",
        "colab_type": "text"
      },
      "source": [
        "<a href=\"https://colab.research.google.com/github/PopoviciuAndreea/Company-Bankruptcy-Prediction/blob/main/Company_Bankruptcy_Prediction.ipynb\" target=\"_parent\"><img src=\"https://colab.research.google.com/assets/colab-badge.svg\" alt=\"Open In Colab\"/></a>"
      ]
    },
    {
      "cell_type": "code",
      "execution_count": null,
      "metadata": {
        "id": "lO-rwmLZv6xu"
      },
      "outputs": [],
      "source": [
        "import pandas as pd\n",
        "import matplotlib.pyplot as plt\n",
        "import numpy as np\n",
        "from sklearn.linear_model import LogisticRegression\n",
        "from sklearn.preprocessing import StandardScaler\n",
        "from sklearn.metrics import confusion_matrix, classification_report\n",
        "from sklearn.model_selection import train_test_split\n",
        "from imblearn.over_sampling import SMOTE\n"
      ]
    },
    {
      "cell_type": "code",
      "source": [
        "data = pd.read_csv('data.csv')"
      ],
      "metadata": {
        "id": "4yvxrGnLy85k"
      },
      "execution_count": null,
      "outputs": []
    },
    {
      "cell_type": "code",
      "source": [
        "print(data.info())"
      ],
      "metadata": {
        "colab": {
          "base_uri": "https://localhost:8080/"
        },
        "id": "FjWwsNZizCNG",
        "outputId": "d732889f-36e6-4664-f61d-b2875d01d964"
      },
      "execution_count": null,
      "outputs": [
        {
          "output_type": "stream",
          "name": "stdout",
          "text": [
            "<class 'pandas.core.frame.DataFrame'>\n",
            "RangeIndex: 4999 entries, 0 to 4998\n",
            "Data columns (total 96 columns):\n",
            " #   Column                                                    Non-Null Count  Dtype  \n",
            "---  ------                                                    --------------  -----  \n",
            " 0   Bankrupt?                                                 4999 non-null   int64  \n",
            " 1    ROA(C) before interest and depreciation before interest  4999 non-null   float64\n",
            " 2    ROA(A) before interest and % after tax                   4999 non-null   float64\n",
            " 3    ROA(B) before interest and depreciation after tax        4999 non-null   float64\n",
            " 4    Operating Gross Margin                                   4999 non-null   float64\n",
            " 5    Realized Sales Gross Margin                              4999 non-null   float64\n",
            " 6    Operating Profit Rate                                    4999 non-null   float64\n",
            " 7    Pre-tax net Interest Rate                                4999 non-null   float64\n",
            " 8    After-tax net Interest Rate                              4999 non-null   float64\n",
            " 9    Non-industry income and expenditure/revenue              4999 non-null   float64\n",
            " 10   Continuous interest rate (after tax)                     4999 non-null   float64\n",
            " 11   Operating Expense Rate                                   4999 non-null   float64\n",
            " 12   Research and development expense rate                    4999 non-null   float64\n",
            " 13   Cash flow rate                                           4999 non-null   float64\n",
            " 14   Interest-bearing debt interest rate                      4999 non-null   float64\n",
            " 15   Tax rate (A)                                             4999 non-null   float64\n",
            " 16   Net Value Per Share (B)                                  4999 non-null   float64\n",
            " 17   Net Value Per Share (A)                                  4999 non-null   float64\n",
            " 18   Net Value Per Share (C)                                  4999 non-null   float64\n",
            " 19   Persistent EPS in the Last Four Seasons                  4999 non-null   float64\n",
            " 20   Cash Flow Per Share                                      4999 non-null   float64\n",
            " 21   Revenue Per Share (Yuan ¥)                               4999 non-null   float64\n",
            " 22   Operating Profit Per Share (Yuan ¥)                      4999 non-null   float64\n",
            " 23   Per Share Net profit before tax (Yuan ¥)                 4999 non-null   float64\n",
            " 24   Realized Sales Gross Profit Growth Rate                  4999 non-null   float64\n",
            " 25   Operating Profit Growth Rate                             4999 non-null   float64\n",
            " 26   After-tax Net Profit Growth Rate                         4999 non-null   float64\n",
            " 27   Regular Net Profit Growth Rate                           4999 non-null   float64\n",
            " 28   Continuous Net Profit Growth Rate                        4999 non-null   float64\n",
            " 29   Total Asset Growth Rate                                  4999 non-null   float64\n",
            " 30   Net Value Growth Rate                                    4999 non-null   float64\n",
            " 31   Total Asset Return Growth Rate Ratio                     4999 non-null   float64\n",
            " 32   Cash Reinvestment %                                      4999 non-null   float64\n",
            " 33   Current Ratio                                            4999 non-null   float64\n",
            " 34   Quick Ratio                                              4999 non-null   float64\n",
            " 35   Interest Expense Ratio                                   4998 non-null   float64\n",
            " 36   Total debt/Total net worth                               4998 non-null   float64\n",
            " 37   Debt ratio %                                             4998 non-null   float64\n",
            " 38   Net worth/Assets                                         4998 non-null   float64\n",
            " 39   Long-term fund suitability ratio (A)                     4998 non-null   float64\n",
            " 40   Borrowing dependency                                     4998 non-null   float64\n",
            " 41   Contingent liabilities/Net worth                         4998 non-null   float64\n",
            " 42   Operating profit/Paid-in capital                         4998 non-null   float64\n",
            " 43   Net profit before tax/Paid-in capital                    4998 non-null   float64\n",
            " 44   Inventory and accounts receivable/Net value              4998 non-null   float64\n",
            " 45   Total Asset Turnover                                     4998 non-null   float64\n",
            " 46   Accounts Receivable Turnover                             4998 non-null   float64\n",
            " 47   Average Collection Days                                  4998 non-null   float64\n",
            " 48   Inventory Turnover Rate (times)                          4998 non-null   float64\n",
            " 49   Fixed Assets Turnover Frequency                          4998 non-null   float64\n",
            " 50   Net Worth Turnover Rate (times)                          4998 non-null   float64\n",
            " 51   Revenue per person                                       4998 non-null   float64\n",
            " 52   Operating profit per person                              4998 non-null   float64\n",
            " 53   Allocation rate per person                               4998 non-null   float64\n",
            " 54   Working Capital to Total Assets                          4998 non-null   float64\n",
            " 55   Quick Assets/Total Assets                                4998 non-null   float64\n",
            " 56   Current Assets/Total Assets                              4998 non-null   float64\n",
            " 57   Cash/Total Assets                                        4998 non-null   float64\n",
            " 58   Quick Assets/Current Liability                           4998 non-null   float64\n",
            " 59   Cash/Current Liability                                   4998 non-null   float64\n",
            " 60   Current Liability to Assets                              4998 non-null   float64\n",
            " 61   Operating Funds to Liability                             4998 non-null   float64\n",
            " 62   Inventory/Working Capital                                4998 non-null   float64\n",
            " 63   Inventory/Current Liability                              4998 non-null   float64\n",
            " 64   Current Liabilities/Liability                            4998 non-null   float64\n",
            " 65   Working Capital/Equity                                   4998 non-null   float64\n",
            " 66   Current Liabilities/Equity                               4998 non-null   float64\n",
            " 67   Long-term Liability to Current Assets                    4998 non-null   float64\n",
            " 68   Retained Earnings to Total Assets                        4998 non-null   float64\n",
            " 69   Total income/Total expense                               4998 non-null   float64\n",
            " 70   Total expense/Assets                                     4998 non-null   float64\n",
            " 71   Current Asset Turnover Rate                              4998 non-null   float64\n",
            " 72   Quick Asset Turnover Rate                                4998 non-null   float64\n",
            " 73   Working capitcal Turnover Rate                           4998 non-null   float64\n",
            " 74   Cash Turnover Rate                                       4998 non-null   float64\n",
            " 75   Cash Flow to Sales                                       4998 non-null   float64\n",
            " 76   Fixed Assets to Assets                                   4998 non-null   float64\n",
            " 77   Current Liability to Liability                           4998 non-null   float64\n",
            " 78   Current Liability to Equity                              4998 non-null   float64\n",
            " 79   Equity to Long-term Liability                            4998 non-null   float64\n",
            " 80   Cash Flow to Total Assets                                4998 non-null   float64\n",
            " 81   Cash Flow to Liability                                   4998 non-null   float64\n",
            " 82   CFO to Assets                                            4998 non-null   float64\n",
            " 83   Cash Flow to Equity                                      4998 non-null   float64\n",
            " 84   Current Liability to Current Assets                      4998 non-null   float64\n",
            " 85   Liability-Assets Flag                                    4998 non-null   float64\n",
            " 86   Net Income to Total Assets                               4998 non-null   float64\n",
            " 87   Total assets to GNP price                                4998 non-null   float64\n",
            " 88   No-credit Interval                                       4998 non-null   float64\n",
            " 89   Gross Profit to Sales                                    4998 non-null   float64\n",
            " 90   Net Income to Stockholder's Equity                       4998 non-null   float64\n",
            " 91   Liability to Equity                                      4998 non-null   float64\n",
            " 92   Degree of Financial Leverage (DFL)                       4998 non-null   float64\n",
            " 93   Interest Coverage Ratio (Interest expense to EBIT)       4998 non-null   float64\n",
            " 94   Net Income Flag                                          4998 non-null   float64\n",
            " 95   Equity to Liability                                      4998 non-null   float64\n",
            "dtypes: float64(95), int64(1)\n",
            "memory usage: 3.7 MB\n",
            "None\n"
          ]
        }
      ]
    },
    {
      "cell_type": "code",
      "source": [
        "data['Bankrupt?'].value_counts()"
      ],
      "metadata": {
        "colab": {
          "base_uri": "https://localhost:8080/"
        },
        "id": "OQCuWbzyzL_V",
        "outputId": "021e9f2c-f5ac-4cad-c02b-8f02f9f58831"
      },
      "execution_count": null,
      "outputs": [
        {
          "output_type": "execute_result",
          "data": {
            "text/plain": [
              "Bankrupt?\n",
              "0    6599\n",
              "1     220\n",
              "Name: count, dtype: int64"
            ]
          },
          "metadata": {},
          "execution_count": 7
        }
      ]
    },
    {
      "cell_type": "code",
      "source": [
        "y = data['Bankrupt?']\n",
        "X = data.drop(columns='Bankrupt?')"
      ],
      "metadata": {
        "id": "H6qs3Upu1Lj_"
      },
      "execution_count": null,
      "outputs": []
    },
    {
      "cell_type": "markdown",
      "source": [
        "Impartim setul de date in 70% date de train si 30% date de test"
      ],
      "metadata": {
        "id": "pjU-wdkt2AtX"
      }
    },
    {
      "cell_type": "code",
      "source": [
        "X_train, X_test, y_train, y_test = train_test_split(X, y, test_size = 0.3, random_state = 0)"
      ],
      "metadata": {
        "id": "On2zTvpVzrZE"
      },
      "execution_count": null,
      "outputs": []
    },
    {
      "cell_type": "code",
      "source": [
        "print(\"Number of bankrupt X_train dataset: \", X_train.shape)\n",
        "print(\"Number of bankrupt y_train dataset: \", y_train.shape)\n",
        "print(\"Number of bankrupt X_test dataset: \", X_test.shape)\n",
        "print(\"Number of bankrupt y_test dataset: \", y_test.shape)"
      ],
      "metadata": {
        "colab": {
          "base_uri": "https://localhost:8080/"
        },
        "id": "lvaOphki1_Dz",
        "outputId": "66682844-17bc-4b2c-e25e-a0f67e59e584"
      },
      "execution_count": null,
      "outputs": [
        {
          "output_type": "stream",
          "name": "stdout",
          "text": [
            "Number of bankrupt X_train dataset:  (4773, 95)\n",
            "Number of bankrupt y_train dataset:  (4773,)\n",
            "Number of bankrupt X_test dataset:  (2046, 95)\n",
            "Number of bankrupt y_test dataset:  (2046,)\n"
          ]
        }
      ]
    },
    {
      "cell_type": "code",
      "source": [
        "lr = LogisticRegression()\n",
        "\n",
        "lr.fit(X_train, y_train.ravel())\n",
        "\n",
        "predictions = lr.predict(X_test)\n",
        "\n",
        "print(classification_report(y_test, predictions))"
      ],
      "metadata": {
        "colab": {
          "base_uri": "https://localhost:8080/"
        },
        "id": "wCDAplKu3LBL",
        "outputId": "d93976bd-832b-49e6-dbe9-153960b9c820"
      },
      "execution_count": null,
      "outputs": [
        {
          "output_type": "stream",
          "name": "stdout",
          "text": [
            "              precision    recall  f1-score   support\n",
            "\n",
            "           0       0.97      0.99      0.98      1987\n",
            "           1       0.00      0.00      0.00        59\n",
            "\n",
            "    accuracy                           0.96      2046\n",
            "   macro avg       0.49      0.49      0.49      2046\n",
            "weighted avg       0.94      0.96      0.95      2046\n",
            "\n"
          ]
        },
        {
          "output_type": "stream",
          "name": "stderr",
          "text": [
            "/usr/local/lib/python3.10/dist-packages/sklearn/linear_model/_logistic.py:458: ConvergenceWarning: lbfgs failed to converge (status=1):\n",
            "STOP: TOTAL NO. of ITERATIONS REACHED LIMIT.\n",
            "\n",
            "Increase the number of iterations (max_iter) or scale the data as shown in:\n",
            "    https://scikit-learn.org/stable/modules/preprocessing.html\n",
            "Please also refer to the documentation for alternative solver options:\n",
            "    https://scikit-learn.org/stable/modules/linear_model.html#logistic-regression\n",
            "  n_iter_i = _check_optimize_result(\n"
          ]
        }
      ]
    },
    {
      "cell_type": "code",
      "source": [
        "print(\"Before OverSampling, counts of lavel '1': {}\".format(sum(y_train == 1)))\n",
        "print(\"Before Oversampling, counts of label '0': {}\\n\".format(sum(y_train == 0)))\n",
        "\n",
        "sm = SMOTE(random_state = 2)\n",
        "X_train_res, y_train_res = sm.fit_resample(X_train, y_train.ravel())\n",
        "\n",
        "print(\"After OverSampling, the shape of train_X: {}\".format(X_train_res.shape))\n",
        "print(\"After OverSampling, the shape of train_y: {}\".format(y_train_res.shape))\n",
        "\n",
        "print(\"After OverSampling, counts of label '1': {}\".format(sum(y_train_res == 1)))\n",
        "print(\"After OverSampling, counts of label '0': {}\".format(sum(y_train_res == 0)))\n"
      ],
      "metadata": {
        "colab": {
          "base_uri": "https://localhost:8080/"
        },
        "id": "PVoeWGVW3uub",
        "outputId": "fa6e2979-4895-40d2-f9e9-3e1d0155a5d4"
      },
      "execution_count": null,
      "outputs": [
        {
          "output_type": "stream",
          "name": "stdout",
          "text": [
            "Before OverSampling, counts of lavel '1': 161\n",
            "Before Oversampling, counts of label '0': 4612\n",
            "\n",
            "After OverSampling, the shape of train_X: (9224, 95)\n",
            "After OverSampling, the shape of train_y: (9224,)\n",
            "After OverSampling, counts of label '1': 4612\n",
            "After OverSampling, counts of label '0': 4612\n"
          ]
        }
      ]
    },
    {
      "cell_type": "code",
      "source": [
        "lr1 = LogisticRegression()\n",
        "lr1.fit(X_train_res, y_train_res.ravel())\n",
        "predictions = lr1.predict(X_test)\n",
        "\n",
        "print(classification_report(y_test, predictions))\n"
      ],
      "metadata": {
        "colab": {
          "base_uri": "https://localhost:8080/"
        },
        "id": "phVOq-L26FWn",
        "outputId": "c358f543-8024-4de5-966f-13a30feb7ebb"
      },
      "execution_count": null,
      "outputs": [
        {
          "output_type": "stream",
          "name": "stdout",
          "text": [
            "              precision    recall  f1-score   support\n",
            "\n",
            "           0       0.97      0.80      0.88      1987\n",
            "           1       0.03      0.24      0.06        59\n",
            "\n",
            "    accuracy                           0.79      2046\n",
            "   macro avg       0.50      0.52      0.47      2046\n",
            "weighted avg       0.95      0.79      0.86      2046\n",
            "\n"
          ]
        },
        {
          "output_type": "stream",
          "name": "stderr",
          "text": [
            "/usr/local/lib/python3.10/dist-packages/sklearn/linear_model/_logistic.py:458: ConvergenceWarning: lbfgs failed to converge (status=1):\n",
            "STOP: TOTAL NO. of ITERATIONS REACHED LIMIT.\n",
            "\n",
            "Increase the number of iterations (max_iter) or scale the data as shown in:\n",
            "    https://scikit-learn.org/stable/modules/preprocessing.html\n",
            "Please also refer to the documentation for alternative solver options:\n",
            "    https://scikit-learn.org/stable/modules/linear_model.html#logistic-regression\n",
            "  n_iter_i = _check_optimize_result(\n"
          ]
        }
      ]
    },
    {
      "cell_type": "code",
      "source": [
        "from google.colab import files"
      ],
      "metadata": {
        "id": "U4IyB4lT63fK"
      },
      "execution_count": null,
      "outputs": []
    },
    {
      "cell_type": "code",
      "source": [
        "#train_dataset = pd.concat([y_train_res, X_train_res], axis = 1)\n",
        "#zero_data = np.zeros(shape=(len(data),len(feature_list)))\n",
        "#d = pd.DataFrame(zero_data, columns=feature_list)\n",
        "\n",
        "train_dataset = pd.concat([pd.DataFrame(y_train_res), pd.DataFrame(X_train_res)], axis = 1)\n",
        "test_dataset = pd.concat([pd.DataFrame(y_test), pd.DataFrame(X_test)], axis = 1)"
      ],
      "metadata": {
        "id": "TLCwMg2S7Tc7"
      },
      "execution_count": null,
      "outputs": []
    },
    {
      "cell_type": "code",
      "source": [
        "print(test_dataset.count())\n",
        "print(train_dataset.count())"
      ],
      "metadata": {
        "colab": {
          "base_uri": "https://localhost:8080/"
        },
        "id": "rG3XrbGUhiH0",
        "outputId": "8f128b21-a017-44bf-b174-bc62fa372a8b"
      },
      "execution_count": null,
      "outputs": [
        {
          "output_type": "stream",
          "name": "stdout",
          "text": [
            "Bankrupt?                                                   2046\n",
            " ROA(C) before interest and depreciation before interest    2046\n",
            " ROA(A) before interest and % after tax                     2046\n",
            " ROA(B) before interest and depreciation after tax          2046\n",
            " Operating Gross Margin                                     2046\n",
            "                                                            ... \n",
            " Liability to Equity                                        2046\n",
            " Degree of Financial Leverage (DFL)                         2046\n",
            " Interest Coverage Ratio (Interest expense to EBIT)         2046\n",
            " Net Income Flag                                            2046\n",
            " Equity to Liability                                        2046\n",
            "Length: 96, dtype: int64\n",
            "0                                                           9224\n",
            " ROA(C) before interest and depreciation before interest    9224\n",
            " ROA(A) before interest and % after tax                     9224\n",
            " ROA(B) before interest and depreciation after tax          9224\n",
            " Operating Gross Margin                                     9224\n",
            "                                                            ... \n",
            " Liability to Equity                                        9224\n",
            " Degree of Financial Leverage (DFL)                         9224\n",
            " Interest Coverage Ratio (Interest expense to EBIT)         9224\n",
            " Net Income Flag                                            9224\n",
            " Equity to Liability                                        9224\n",
            "Length: 96, dtype: int64\n"
          ]
        }
      ]
    },
    {
      "cell_type": "code",
      "source": [
        "print(train_dataset.info())"
      ],
      "metadata": {
        "colab": {
          "base_uri": "https://localhost:8080/"
        },
        "id": "ciWvAo5673Ly",
        "outputId": "654ddc81-cb52-48c0-9e33-8c84563abe57"
      },
      "execution_count": null,
      "outputs": [
        {
          "output_type": "stream",
          "name": "stdout",
          "text": [
            "<class 'pandas.core.frame.DataFrame'>\n",
            "RangeIndex: 9224 entries, 0 to 9223\n",
            "Data columns (total 96 columns):\n",
            " #   Column                                                    Non-Null Count  Dtype  \n",
            "---  ------                                                    --------------  -----  \n",
            " 0   0                                                         9224 non-null   int64  \n",
            " 1    ROA(C) before interest and depreciation before interest  9224 non-null   float64\n",
            " 2    ROA(A) before interest and % after tax                   9224 non-null   float64\n",
            " 3    ROA(B) before interest and depreciation after tax        9224 non-null   float64\n",
            " 4    Operating Gross Margin                                   9224 non-null   float64\n",
            " 5    Realized Sales Gross Margin                              9224 non-null   float64\n",
            " 6    Operating Profit Rate                                    9224 non-null   float64\n",
            " 7    Pre-tax net Interest Rate                                9224 non-null   float64\n",
            " 8    After-tax net Interest Rate                              9224 non-null   float64\n",
            " 9    Non-industry income and expenditure/revenue              9224 non-null   float64\n",
            " 10   Continuous interest rate (after tax)                     9224 non-null   float64\n",
            " 11   Operating Expense Rate                                   9224 non-null   float64\n",
            " 12   Research and development expense rate                    9224 non-null   float64\n",
            " 13   Cash flow rate                                           9224 non-null   float64\n",
            " 14   Interest-bearing debt interest rate                      9224 non-null   float64\n",
            " 15   Tax rate (A)                                             9224 non-null   float64\n",
            " 16   Net Value Per Share (B)                                  9224 non-null   float64\n",
            " 17   Net Value Per Share (A)                                  9224 non-null   float64\n",
            " 18   Net Value Per Share (C)                                  9224 non-null   float64\n",
            " 19   Persistent EPS in the Last Four Seasons                  9224 non-null   float64\n",
            " 20   Cash Flow Per Share                                      9224 non-null   float64\n",
            " 21   Revenue Per Share (Yuan ¥)                               9224 non-null   float64\n",
            " 22   Operating Profit Per Share (Yuan ¥)                      9224 non-null   float64\n",
            " 23   Per Share Net profit before tax (Yuan ¥)                 9224 non-null   float64\n",
            " 24   Realized Sales Gross Profit Growth Rate                  9224 non-null   float64\n",
            " 25   Operating Profit Growth Rate                             9224 non-null   float64\n",
            " 26   After-tax Net Profit Growth Rate                         9224 non-null   float64\n",
            " 27   Regular Net Profit Growth Rate                           9224 non-null   float64\n",
            " 28   Continuous Net Profit Growth Rate                        9224 non-null   float64\n",
            " 29   Total Asset Growth Rate                                  9224 non-null   float64\n",
            " 30   Net Value Growth Rate                                    9224 non-null   float64\n",
            " 31   Total Asset Return Growth Rate Ratio                     9224 non-null   float64\n",
            " 32   Cash Reinvestment %                                      9224 non-null   float64\n",
            " 33   Current Ratio                                            9224 non-null   float64\n",
            " 34   Quick Ratio                                              9224 non-null   float64\n",
            " 35   Interest Expense Ratio                                   9224 non-null   float64\n",
            " 36   Total debt/Total net worth                               9224 non-null   float64\n",
            " 37   Debt ratio %                                             9224 non-null   float64\n",
            " 38   Net worth/Assets                                         9224 non-null   float64\n",
            " 39   Long-term fund suitability ratio (A)                     9224 non-null   float64\n",
            " 40   Borrowing dependency                                     9224 non-null   float64\n",
            " 41   Contingent liabilities/Net worth                         9224 non-null   float64\n",
            " 42   Operating profit/Paid-in capital                         9224 non-null   float64\n",
            " 43   Net profit before tax/Paid-in capital                    9224 non-null   float64\n",
            " 44   Inventory and accounts receivable/Net value              9224 non-null   float64\n",
            " 45   Total Asset Turnover                                     9224 non-null   float64\n",
            " 46   Accounts Receivable Turnover                             9224 non-null   float64\n",
            " 47   Average Collection Days                                  9224 non-null   float64\n",
            " 48   Inventory Turnover Rate (times)                          9224 non-null   float64\n",
            " 49   Fixed Assets Turnover Frequency                          9224 non-null   float64\n",
            " 50   Net Worth Turnover Rate (times)                          9224 non-null   float64\n",
            " 51   Revenue per person                                       9224 non-null   float64\n",
            " 52   Operating profit per person                              9224 non-null   float64\n",
            " 53   Allocation rate per person                               9224 non-null   float64\n",
            " 54   Working Capital to Total Assets                          9224 non-null   float64\n",
            " 55   Quick Assets/Total Assets                                9224 non-null   float64\n",
            " 56   Current Assets/Total Assets                              9224 non-null   float64\n",
            " 57   Cash/Total Assets                                        9224 non-null   float64\n",
            " 58   Quick Assets/Current Liability                           9224 non-null   float64\n",
            " 59   Cash/Current Liability                                   9224 non-null   float64\n",
            " 60   Current Liability to Assets                              9224 non-null   float64\n",
            " 61   Operating Funds to Liability                             9224 non-null   float64\n",
            " 62   Inventory/Working Capital                                9224 non-null   float64\n",
            " 63   Inventory/Current Liability                              9224 non-null   float64\n",
            " 64   Current Liabilities/Liability                            9224 non-null   float64\n",
            " 65   Working Capital/Equity                                   9224 non-null   float64\n",
            " 66   Current Liabilities/Equity                               9224 non-null   float64\n",
            " 67   Long-term Liability to Current Assets                    9224 non-null   float64\n",
            " 68   Retained Earnings to Total Assets                        9224 non-null   float64\n",
            " 69   Total income/Total expense                               9224 non-null   float64\n",
            " 70   Total expense/Assets                                     9224 non-null   float64\n",
            " 71   Current Asset Turnover Rate                              9224 non-null   float64\n",
            " 72   Quick Asset Turnover Rate                                9224 non-null   float64\n",
            " 73   Working capitcal Turnover Rate                           9224 non-null   float64\n",
            " 74   Cash Turnover Rate                                       9224 non-null   float64\n",
            " 75   Cash Flow to Sales                                       9224 non-null   float64\n",
            " 76   Fixed Assets to Assets                                   9224 non-null   float64\n",
            " 77   Current Liability to Liability                           9224 non-null   float64\n",
            " 78   Current Liability to Equity                              9224 non-null   float64\n",
            " 79   Equity to Long-term Liability                            9224 non-null   float64\n",
            " 80   Cash Flow to Total Assets                                9224 non-null   float64\n",
            " 81   Cash Flow to Liability                                   9224 non-null   float64\n",
            " 82   CFO to Assets                                            9224 non-null   float64\n",
            " 83   Cash Flow to Equity                                      9224 non-null   float64\n",
            " 84   Current Liability to Current Assets                      9224 non-null   float64\n",
            " 85   Liability-Assets Flag                                    9224 non-null   int64  \n",
            " 86   Net Income to Total Assets                               9224 non-null   float64\n",
            " 87   Total assets to GNP price                                9224 non-null   float64\n",
            " 88   No-credit Interval                                       9224 non-null   float64\n",
            " 89   Gross Profit to Sales                                    9224 non-null   float64\n",
            " 90   Net Income to Stockholder's Equity                       9224 non-null   float64\n",
            " 91   Liability to Equity                                      9224 non-null   float64\n",
            " 92   Degree of Financial Leverage (DFL)                       9224 non-null   float64\n",
            " 93   Interest Coverage Ratio (Interest expense to EBIT)       9224 non-null   float64\n",
            " 94   Net Income Flag                                          9224 non-null   int64  \n",
            " 95   Equity to Liability                                      9224 non-null   float64\n",
            "dtypes: float64(93), int64(3)\n",
            "memory usage: 6.8 MB\n",
            "None\n"
          ]
        }
      ]
    },
    {
      "cell_type": "code",
      "source": [
        "train_dataset.to_csv('bankruptTrain.csv', encoding = 'utf-8-sig')\n",
        "files.download('bankruptTrain.csv')"
      ],
      "metadata": {
        "colab": {
          "base_uri": "https://localhost:8080/",
          "height": 17
        },
        "id": "VHSCxKPj65cU",
        "outputId": "46a5bf60-d8da-4c8d-d824-daf6463f2d1c"
      },
      "execution_count": null,
      "outputs": [
        {
          "output_type": "display_data",
          "data": {
            "text/plain": [
              "<IPython.core.display.Javascript object>"
            ],
            "application/javascript": [
              "\n",
              "    async function download(id, filename, size) {\n",
              "      if (!google.colab.kernel.accessAllowed) {\n",
              "        return;\n",
              "      }\n",
              "      const div = document.createElement('div');\n",
              "      const label = document.createElement('label');\n",
              "      label.textContent = `Downloading \"${filename}\": `;\n",
              "      div.appendChild(label);\n",
              "      const progress = document.createElement('progress');\n",
              "      progress.max = size;\n",
              "      div.appendChild(progress);\n",
              "      document.body.appendChild(div);\n",
              "\n",
              "      const buffers = [];\n",
              "      let downloaded = 0;\n",
              "\n",
              "      const channel = await google.colab.kernel.comms.open(id);\n",
              "      // Send a message to notify the kernel that we're ready.\n",
              "      channel.send({})\n",
              "\n",
              "      for await (const message of channel.messages) {\n",
              "        // Send a message to notify the kernel that we're ready.\n",
              "        channel.send({})\n",
              "        if (message.buffers) {\n",
              "          for (const buffer of message.buffers) {\n",
              "            buffers.push(buffer);\n",
              "            downloaded += buffer.byteLength;\n",
              "            progress.value = downloaded;\n",
              "          }\n",
              "        }\n",
              "      }\n",
              "      const blob = new Blob(buffers, {type: 'application/binary'});\n",
              "      const a = document.createElement('a');\n",
              "      a.href = window.URL.createObjectURL(blob);\n",
              "      a.download = filename;\n",
              "      div.appendChild(a);\n",
              "      a.click();\n",
              "      div.remove();\n",
              "    }\n",
              "  "
            ]
          },
          "metadata": {}
        },
        {
          "output_type": "display_data",
          "data": {
            "text/plain": [
              "<IPython.core.display.Javascript object>"
            ],
            "application/javascript": [
              "download(\"download_3f871ed9-cfea-4603-a39a-3fc06b30f1bf\", \"bankruptTrain.csv\", 16129625)"
            ]
          },
          "metadata": {}
        },
        {
          "output_type": "display_data",
          "data": {
            "text/plain": [
              "<IPython.core.display.Javascript object>"
            ],
            "application/javascript": [
              "\n",
              "    async function download(id, filename, size) {\n",
              "      if (!google.colab.kernel.accessAllowed) {\n",
              "        return;\n",
              "      }\n",
              "      const div = document.createElement('div');\n",
              "      const label = document.createElement('label');\n",
              "      label.textContent = `Downloading \"${filename}\": `;\n",
              "      div.appendChild(label);\n",
              "      const progress = document.createElement('progress');\n",
              "      progress.max = size;\n",
              "      div.appendChild(progress);\n",
              "      document.body.appendChild(div);\n",
              "\n",
              "      const buffers = [];\n",
              "      let downloaded = 0;\n",
              "\n",
              "      const channel = await google.colab.kernel.comms.open(id);\n",
              "      // Send a message to notify the kernel that we're ready.\n",
              "      channel.send({})\n",
              "\n",
              "      for await (const message of channel.messages) {\n",
              "        // Send a message to notify the kernel that we're ready.\n",
              "        channel.send({})\n",
              "        if (message.buffers) {\n",
              "          for (const buffer of message.buffers) {\n",
              "            buffers.push(buffer);\n",
              "            downloaded += buffer.byteLength;\n",
              "            progress.value = downloaded;\n",
              "          }\n",
              "        }\n",
              "      }\n",
              "      const blob = new Blob(buffers, {type: 'application/binary'});\n",
              "      const a = document.createElement('a');\n",
              "      a.href = window.URL.createObjectURL(blob);\n",
              "      a.download = filename;\n",
              "      div.appendChild(a);\n",
              "      a.click();\n",
              "      div.remove();\n",
              "    }\n",
              "  "
            ]
          },
          "metadata": {}
        },
        {
          "output_type": "display_data",
          "data": {
            "text/plain": [
              "<IPython.core.display.Javascript object>"
            ],
            "application/javascript": [
              "download(\"download_651603dd-1d23-4a7f-a904-f3662aad2260\", \"bankruptTrain.csv\", 16129625)"
            ]
          },
          "metadata": {}
        }
      ]
    },
    {
      "cell_type": "code",
      "source": [
        "test_dataset.to_csv('bankruptTest.csv', encoding = 'utf-8-sig')\n",
        "files.download('bankruptTest.csv')"
      ],
      "metadata": {
        "colab": {
          "base_uri": "https://localhost:8080/",
          "height": 17
        },
        "id": "TAHZCqQ9i782",
        "outputId": "5ecfee82-eaff-430c-b82a-e97a506531af"
      },
      "execution_count": null,
      "outputs": [
        {
          "output_type": "display_data",
          "data": {
            "text/plain": [
              "<IPython.core.display.Javascript object>"
            ],
            "application/javascript": [
              "\n",
              "    async function download(id, filename, size) {\n",
              "      if (!google.colab.kernel.accessAllowed) {\n",
              "        return;\n",
              "      }\n",
              "      const div = document.createElement('div');\n",
              "      const label = document.createElement('label');\n",
              "      label.textContent = `Downloading \"${filename}\": `;\n",
              "      div.appendChild(label);\n",
              "      const progress = document.createElement('progress');\n",
              "      progress.max = size;\n",
              "      div.appendChild(progress);\n",
              "      document.body.appendChild(div);\n",
              "\n",
              "      const buffers = [];\n",
              "      let downloaded = 0;\n",
              "\n",
              "      const channel = await google.colab.kernel.comms.open(id);\n",
              "      // Send a message to notify the kernel that we're ready.\n",
              "      channel.send({})\n",
              "\n",
              "      for await (const message of channel.messages) {\n",
              "        // Send a message to notify the kernel that we're ready.\n",
              "        channel.send({})\n",
              "        if (message.buffers) {\n",
              "          for (const buffer of message.buffers) {\n",
              "            buffers.push(buffer);\n",
              "            downloaded += buffer.byteLength;\n",
              "            progress.value = downloaded;\n",
              "          }\n",
              "        }\n",
              "      }\n",
              "      const blob = new Blob(buffers, {type: 'application/binary'});\n",
              "      const a = document.createElement('a');\n",
              "      a.href = window.URL.createObjectURL(blob);\n",
              "      a.download = filename;\n",
              "      div.appendChild(a);\n",
              "      a.click();\n",
              "      div.remove();\n",
              "    }\n",
              "  "
            ]
          },
          "metadata": {}
        },
        {
          "output_type": "display_data",
          "data": {
            "text/plain": [
              "<IPython.core.display.Javascript object>"
            ],
            "application/javascript": [
              "download(\"download_60138dc6-c856-44fe-8916-51bdafe8b291\", \"bankruptTest.csv\", 3416726)"
            ]
          },
          "metadata": {}
        }
      ]
    }
  ]
}